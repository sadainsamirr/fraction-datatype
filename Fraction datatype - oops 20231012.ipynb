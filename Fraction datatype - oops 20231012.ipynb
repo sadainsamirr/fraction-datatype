{
 "cells": [
  {
   "cell_type": "code",
   "execution_count": null,
   "id": "77d529f1",
   "metadata": {},
   "outputs": [],
   "source": [
    "class Fraction:\n",
    "    def __init__(self,n,d):\n",
    "        self.num = n\n",
    "        self.den = d\n",
    "    def __str__(self):\n",
    "        return \"{}/{}\".format(self.num, self.den)\n",
    "    def __add__(self, other):\n",
    "        temp_num = self.num * other.den + self.den * other.num\n",
    "        temp_den = self.den * other.den\n",
    "        return \"{}/{}\".format(temp_num, temp_den)\n",
    "    def __sub__(self, other):\n",
    "        temp_num = self.num * other.den - self.den * other.num\n",
    "        temp_den = self.den * other.den\n",
    "        return \"{}/{}\".format(temp_num, temp_den)\n",
    "    def __mul__(self, other):\n",
    "        temp_num = self.num * other.num\n",
    "        temp_den = self.den * other.den\n",
    "        return \"{}/{}\".format(temp_num, temp_den)\n",
    "    def __truediv__(self, other):\n",
    "        temp_num = self.num * other.den\n",
    "        temp_den = self.den * other.num\n",
    "        return \"{}/{}\".format(temp_num, temp_den)"
   ]
  }
 ],
 "metadata": {
  "kernelspec": {
   "display_name": "Python 3 (ipykernel)",
   "language": "python",
   "name": "python3"
  },
  "language_info": {
   "codemirror_mode": {
    "name": "ipython",
    "version": 3
   },
   "file_extension": ".py",
   "mimetype": "text/x-python",
   "name": "python",
   "nbconvert_exporter": "python",
   "pygments_lexer": "ipython3",
   "version": "3.10.11"
  }
 },
 "nbformat": 4,
 "nbformat_minor": 5
}
